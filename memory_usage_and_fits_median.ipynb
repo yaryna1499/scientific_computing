{
 "cells": [
  {
   "cell_type": "code",
   "execution_count": 1,
   "id": "b0e416f1",
   "metadata": {},
   "outputs": [
    {
     "name": "stdout",
     "output_type": "stream",
     "text": [
      "3 28\n",
      "3.123 24\n",
      "[3, 3.123] 72\n",
      "[] 56\n"
     ]
    }
   ],
   "source": [
    "import sys\n",
    "\n",
    "a = 3\n",
    "b = 3.123\n",
    "c = [a, b]\n",
    "d = []\n",
    "for obj in [a, b, c, d]:\n",
    "  print(obj, sys.getsizeof(obj))"
   ]
  },
  {
   "cell_type": "markdown",
   "id": "69a14856",
   "metadata": {},
   "source": [
    " ###### The memory used by c is not the sum of the sizes of a and b.\n",
    " Firstly, there is overhead for the list itself (the empty list d is 32 bytes). Secondly, the list does not contain the objects themselves, but instead holds references to the other objects in memory."
   ]
  },
  {
   "cell_type": "code",
   "execution_count": 2,
   "id": "c05c8c22",
   "metadata": {},
   "outputs": [
    {
     "name": "stdout",
     "output_type": "stream",
     "text": [
      "sys: 112 np: 0\n",
      "sys: 124 np: 12\n",
      "sys: 8000112 np: 8000000\n"
     ]
    }
   ],
   "source": [
    "import numpy as np\n",
    "\n",
    "a = np.array([])\n",
    "b = np.array([1, 2, 3])\n",
    "c = np.zeros(10**6)\n",
    "\n",
    "for obj in [a, b, c]:\n",
    "  print('sys:', sys.getsizeof(obj), 'np:', obj.nbytes)"
   ]
  },
  {
   "cell_type": "markdown",
   "id": "be564608",
   "metadata": {},
   "source": [
    "getsizeof will always return a larger value because NumPy arrays contain metadata about the data type, the shape of the array, and other properties, as well as the data itself.\n",
    "\n",
    "We can calculate the nbytes value by multiplying the number of elements with the size in bytes of each element. The latter will be constant over the array."
   ]
  },
  {
   "cell_type": "code",
   "execution_count": 3,
   "id": "3356d079",
   "metadata": {},
   "outputs": [
    {
     "name": "stdout",
     "output_type": "stream",
     "text": [
      "nbytes         : 20\n",
      "size x itemsize: 20\n",
      "nbytes         : 40\n",
      "size x itemsize: 40\n"
     ]
    }
   ],
   "source": [
    "a = np.zeros(5, dtype=np.int32)\n",
    "b = np.zeros(5, dtype=np.float64)\n",
    "\n",
    "for obj in [a, b]:\n",
    "  print('nbytes         :', obj.nbytes)\n",
    "  print('size x itemsize:', obj.size*obj.itemsize)"
   ]
  },
  {
   "cell_type": "markdown",
   "id": "59c08bdd",
   "metadata": {},
   "source": [
    "Here we have set the dtype attribute to create two same-shape arrays with different data types. The size of each element in bytes is given by itemsize."
   ]
  },
  {
   "cell_type": "code",
   "execution_count": 6,
   "id": "eca03b43",
   "metadata": {},
   "outputs": [],
   "source": [
    "# Write your function median_FITS here:\n",
    "from astropy.io import fits\n",
    "import sys\n",
    "import numpy as np\n",
    "import time\n",
    "def median_fits(filenames):\n",
    "  storage = []\n",
    "  n = len(filenames)\n",
    "  if n > 0:\n",
    "    for file in filenames:\n",
    "      start = time.perf_counter()\n",
    "      hdulist = fits.open(file)\n",
    "      data = hdulist[0].data\n",
    "      storage.append(data)\n",
    "      hdulist.close()\n",
    "  FITS_stack = np.dstack(storage)\n",
    "  median = np.median(FITS_stack, axis=2)\n",
    "  t = time.perf_counter() - start\n",
    "  memory = sys.getsizeof(FITS_stack)/1024 # kB\n",
    "  \n",
    "  return (median, t, memory)"
   ]
  },
  {
   "cell_type": "code",
   "execution_count": 5,
   "id": "eb720aaa",
   "metadata": {},
   "outputs": [
    {
     "name": "stdout",
     "output_type": "stream",
     "text": [
      "0.021428141742944717 0.0047042000001056294 625.140625\n"
     ]
    }
   ],
   "source": [
    "result = median_fits(['image0.fits', 'image2.fits'])\n",
    "print(result[0][100, 100], result[1], result[2])"
   ]
  },
  {
   "cell_type": "code",
   "execution_count": null,
   "id": "6c990e13",
   "metadata": {},
   "outputs": [],
   "source": []
  }
 ],
 "metadata": {
  "kernelspec": {
   "display_name": "Python 3 (ipykernel)",
   "language": "python",
   "name": "python3"
  },
  "language_info": {
   "codemirror_mode": {
    "name": "ipython",
    "version": 3
   },
   "file_extension": ".py",
   "mimetype": "text/x-python",
   "name": "python",
   "nbconvert_exporter": "python",
   "pygments_lexer": "ipython3",
   "version": "3.9.12"
  }
 },
 "nbformat": 4,
 "nbformat_minor": 5
}
