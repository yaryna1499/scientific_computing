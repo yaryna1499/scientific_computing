{
 "cells": [
  {
   "cell_type": "code",
   "execution_count": 6,
   "id": "4e190007",
   "metadata": {},
   "outputs": [],
   "source": [
    "import numpy as np"
   ]
  },
  {
   "cell_type": "code",
   "execution_count": 7,
   "id": "d583f733",
   "metadata": {},
   "outputs": [],
   "source": [
    "def mean_datasets(filenames):\n",
    "  n = len(filenames)\n",
    "  if n > 0:\n",
    "    data = np.loadtxt(filenames[0], delimiter=',')\n",
    "    for i in range(1,n):\n",
    "      data += np.loadtxt(filenames[i], delimiter=',')\n",
    "    \n",
    "    # Mean across all files:\n",
    "    data_mean = data/n\n",
    "     \n",
    "    return np.round(data_mean, 1)"
   ]
  },
  {
   "cell_type": "code",
   "execution_count": 8,
   "id": "772c8b26",
   "metadata": {},
   "outputs": [
    {
     "name": "stdout",
     "output_type": "stream",
     "text": [
      "[[12.6  9.4  9.6]\n",
      " [10.6  5.  12.1]\n",
      " [ 7.   9.4 14.4]\n",
      " [ 8.9  3.9  8.7]\n",
      " [17.5  9.5  8.8]]\n"
     ]
    }
   ],
   "source": [
    "print(mean_datasets(['data2.csv', 'data3.csv']))"
   ]
  },
  {
   "cell_type": "code",
   "execution_count": null,
   "id": "48c79f5a",
   "metadata": {},
   "outputs": [],
   "source": []
  }
 ],
 "metadata": {
  "kernelspec": {
   "display_name": "Python 3 (ipykernel)",
   "language": "python",
   "name": "python3"
  },
  "language_info": {
   "codemirror_mode": {
    "name": "ipython",
    "version": 3
   },
   "file_extension": ".py",
   "mimetype": "text/x-python",
   "name": "python",
   "nbconvert_exporter": "python",
   "pygments_lexer": "ipython3",
   "version": "3.9.12"
  }
 },
 "nbformat": 4,
 "nbformat_minor": 5
}
