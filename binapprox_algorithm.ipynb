{
 "cells": [
  {
   "cell_type": "markdown",
   "id": "d1e6275e",
   "metadata": {},
   "source": [
    "If there were a way to calculate a \"running median\" you could save space by only having one image loaded at a time. Unfortunately, there’s no way to do an exact running median, but there are ways to do it approximately.\n",
    "\n",
    "The binapprox algorithm does just this. The idea behind it is to find the median from the data's histogram. "
   ]
  },
  {
   "cell_type": "markdown",
   "id": "49b46fec",
   "metadata": {},
   "source": [
    "Example:"
   ]
  },
  {
   "cell_type": "code",
   "execution_count": 9,
   "id": "1c14411c",
   "metadata": {},
   "outputs": [
    {
     "data": {
      "text/plain": [
       "30"
      ]
     },
     "execution_count": 9,
     "metadata": {},
     "output_type": "execute_result"
    }
   ],
   "source": [
    "import random\n",
    "my_list = []\n",
    "for _ in range(30):\n",
    "    my_list.append(random.randint(7, 16))\n",
    "len(my_list)"
   ]
  },
  {
   "cell_type": "code",
   "execution_count": 8,
   "id": "fcf8ea9d",
   "metadata": {},
   "outputs": [
    {
     "data": {
      "text/plain": [
       "30"
      ]
     },
     "execution_count": 8,
     "metadata": {},
     "output_type": "execute_result"
    }
   ],
   "source": [
    "my_list2 = [random.randint(7, 16) for _ in range(30)]\n",
    "len(my_list2)"
   ]
  },
  {
   "cell_type": "code",
   "execution_count": 15,
   "id": "49ebd42c",
   "metadata": {},
   "outputs": [
    {
     "data": {
      "text/plain": [
       "(array([5., 0., 1., 4., 1., 5., 7., 4., 2., 1.]),\n",
       " array([ 7. ,  7.9,  8.8,  9.7, 10.6, 11.5, 12.4, 13.3, 14.2, 15.1, 16. ]),\n",
       " <BarContainer object of 10 artists>)"
      ]
     },
     "execution_count": 15,
     "metadata": {},
     "output_type": "execute_result"
    },
    {
     "data": {
      "image/png": "[encoded data removed]",
      "text/plain": [
       "<Figure size 432x288 with 1 Axes>"
      ]
     },
     "metadata": {
      "needs_background": "light"
     },
     "output_type": "display_data"
    }
   ],
   "source": [
    "import matplotlib.pyplot as plt\n",
    "plt.hist(my_list2)"
   ]
  },
  {
   "cell_type": "code",
   "execution_count": 16,
   "id": "9e745282",
   "metadata": {},
   "outputs": [],
   "source": [
    "import numpy as np\n",
    "\n",
    "def median_bins(values, B):\n",
    "    mean = np.mean(values)\n",
    "    std = np.std(values)\n",
    "    \n",
    "  # Initialise bins\n",
    "    left_bin = 0\n",
    "    bins = np.zeros(B)\n",
    "    bin_width = 2*std/B\n",
    "    \n",
    "  # Bin values\n",
    "    for value in values:\n",
    "        if value < mean - std:\n",
    "            left_bin += 1\n",
    "        elif value < mean + std:\n",
    "            bin = int((value - (mean - std))/bin_width)\n",
    "            bins[bin] += 1\n",
    "    # Ignore values above mean + std\n",
    "\n",
    "    return mean, std, left_bin, bins\n",
    "\n",
    "\n",
    "def median_approx(values, B):\n",
    "  # Call median_bins to calculate the mean, std,\n",
    "  # and bins for the input values\n",
    "    mean, std, left_bin, bins = median_bins(values, B)\n",
    "    \t\n",
    "  # Position of the middle element\n",
    "    N = len(values)\n",
    "    mid = (N + 1)/2\n",
    "\n",
    "    count = left_bin\n",
    "    for b, bincount in enumerate(bins):\n",
    "        count += bincount\n",
    "        if count >= mid:\n",
    "      # Stop when the cumulative count exceeds the midpoint\n",
    "            break\n",
    "\n",
    "    width = 2*std/B\n",
    "    median = mean - std + width*(b + 0.5)\n",
    "    return median"
   ]
  },
  {
   "cell_type": "code",
   "execution_count": 17,
   "id": "f78863e7",
   "metadata": {},
   "outputs": [
    {
     "data": {
      "text/plain": [
       "11.860256283945908"
      ]
     },
     "execution_count": 17,
     "metadata": {},
     "output_type": "execute_result"
    }
   ],
   "source": [
    "median1 = median_approx(my_list2, 10)\n",
    "median1"
   ]
  },
  {
   "cell_type": "code",
   "execution_count": 18,
   "id": "ccc12786",
   "metadata": {},
   "outputs": [
    {
     "data": {
      "text/plain": [
       "12.0"
      ]
     },
     "execution_count": 18,
     "metadata": {},
     "output_type": "execute_result"
    }
   ],
   "source": [
    "median2 = np.median(my_list2)\n",
    "median2"
   ]
  }
 ],
 "metadata": {
  "kernelspec": {
   "display_name": "Python 3 (ipykernel)",
   "language": "python",
   "name": "python3"
  },
  "language_info": {
   "codemirror_mode": {
    "name": "ipython",
    "version": 3
   },
   "file_extension": ".py",
   "mimetype": "text/x-python",
   "name": "python",
   "nbconvert_exporter": "python",
   "pygments_lexer": "ipython3",
   "version": "3.9.12"
  }
 },
 "nbformat": 4,
 "nbformat_minor": 5
}
