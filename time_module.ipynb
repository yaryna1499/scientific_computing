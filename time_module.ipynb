{
 "cells": [
  {
   "cell_type": "code",
   "execution_count": 1,
   "id": "0509f8d0",
   "metadata": {},
   "outputs": [],
   "source": [
    "import numpy as np"
   ]
  },
  {
   "cell_type": "code",
   "execution_count": 2,
   "id": "6a339826",
   "metadata": {},
   "outputs": [],
   "source": [
    "my_list = [2,3,5,6,7,5,8,9,5,4,5,5,9]"
   ]
  },
  {
   "cell_type": "code",
   "execution_count": 4,
   "id": "2f70cb31",
   "metadata": {},
   "outputs": [
    {
     "name": "stdout",
     "output_type": "stream",
     "text": [
      "CPU times: total: 0 ns\n",
      "Wall time: 0 ns\n"
     ]
    },
    {
     "data": {
      "text/plain": [
       "73"
      ]
     },
     "execution_count": 4,
     "metadata": {},
     "output_type": "execute_result"
    }
   ],
   "source": [
    "%time\n",
    "sum(my_list)"
   ]
  },
  {
   "cell_type": "code",
   "execution_count": 5,
   "id": "bab16145",
   "metadata": {},
   "outputs": [
    {
     "name": "stdout",
     "output_type": "stream",
     "text": [
      "CPU times: total: 0 ns\n",
      "Wall time: 0 ns\n"
     ]
    },
    {
     "data": {
      "text/plain": [
       "73"
      ]
     },
     "execution_count": 5,
     "metadata": {},
     "output_type": "execute_result"
    }
   ],
   "source": [
    "%time\n",
    "np.sum(my_list)"
   ]
  },
  {
   "cell_type": "code",
   "execution_count": 8,
   "id": "c7cd82f6",
   "metadata": {},
   "outputs": [],
   "source": [
    "import time\n",
    "import random"
   ]
  },
  {
   "cell_type": "code",
   "execution_count": 14,
   "id": "f8f97f3e",
   "metadata": {},
   "outputs": [
    {
     "name": "stdout",
     "output_type": "stream",
     "text": [
      "389.1474824\n",
      "0.7264235999999755\n",
      "That took 0.73 seconds.\n"
     ]
    }
   ],
   "source": [
    "n = 10**7\n",
    "data = np.random.randn(n)\n",
    "\n",
    "start = time.perf_counter()\n",
    "print(start)\n",
    "mean = sum(data)/len(data)\n",
    "seconds = time.perf_counter() - start\n",
    "print(seconds)\n",
    "\n",
    "print('That took {:.2f} seconds.'.format(seconds))"
   ]
  },
  {
   "cell_type": "markdown",
   "id": "6f548e42",
   "metadata": {},
   "source": [
    "There are two distincts types of 'time', in this context: absolute time and relative time.\n",
    "\n",
    "Absolute time is the 'real-world time', which is returned by time.time() and which we are all used to deal with. It is usually measured from a fixed point in time in the past (e.g. the UNIX epoch of 00:00:00 UTC on 01/01/1970) at a resolution of at least 1 second. Modern systems usually provide milli- or micro-second resolution. It is maintained by the dedicated hardware on most computers, the RTC (real-time clock) circuit is normally battery powered so the system keeps track of real time between power ups. This 'real-world time' is also subject to modifications based on your location (time-zones) and season (daylight savings) or expressed as an offset from UTC (also known as GMT or Zulu time).\n",
    "\n",
    "Secondly, there is relative time, which is returned by time.perf_counter and time.process_time. This type of time has no defined relationship to real-world time, in the sense that the relationship is system and implementation specific. It can be used only to measure time intervals, i.e. a unit-less value which is proportional to the time elapsed between two instants. This is mainly used to evaluate relative performance (e.g. whether this version of code runs faster than that version of code).\n",
    "\n",
    "On modern systems, it is measured using a CPU counter which is monotonically increased at a frequency related to CPU's hardware clock. The counter resolution is highly dependent on the system's hardware, the value cannot be reliably related to real-world time or even compared between systems in most cases. Furthermore, the counter value is reset every time the CPU is powered up or reset.\n",
    "\n",
    "time.perf_counter returns the absolute value of the counter. time.process_time is a value which is derived from the CPU counter but updated only when a given process is running on the CPU and can be broken down into 'user time', which is the time when the process itself is running on the CPU, and 'system time', which is the time when the operating system kernel is running on the CPU on behalf on the process."
   ]
  },
  {
   "cell_type": "code",
   "execution_count": 15,
   "id": "8a945f9a",
   "metadata": {},
   "outputs": [
    {
     "name": "stdout",
     "output_type": "stream",
     "text": [
      "That took 0.01 seconds.\n"
     ]
    }
   ],
   "source": [
    "n = 10**7\n",
    "data = np.random.randn(n)\n",
    "\n",
    "start = time.perf_counter()\n",
    "mean = np.mean(data)\n",
    "seconds = time.perf_counter() - start\n",
    "\n",
    "print('That took {:.2f} seconds.'.format(seconds))"
   ]
  },
  {
   "cell_type": "code",
   "execution_count": 17,
   "id": "99f4a19e",
   "metadata": {},
   "outputs": [
    {
     "name": "stdout",
     "output_type": "stream",
     "text": [
      "1.455408s for statistics.mean\n",
      "0.001213s for np.mean\n"
     ]
    }
   ],
   "source": [
    "import statistics\n",
    "def time_stat(func, size, ntrials):\n",
    "  total = 0\n",
    "  for i in range(ntrials):\n",
    "    data = np.random.rand(size)\n",
    "    start = time.perf_counter()\n",
    "    res = func(data)\n",
    "    total += time.perf_counter() - start\n",
    "  return total/ntrials\n",
    "\n",
    "if __name__ == '__main__':\n",
    "  print('{:.6f}s for statistics.mean'.format(time_stat(statistics.mean, 10**6, 10)))\n",
    "  print('{:.6f}s for np.mean'.format(time_stat(np.mean, 10**6, 10)))"
   ]
  },
  {
   "cell_type": "code",
   "execution_count": null,
   "id": "b6af5624",
   "metadata": {},
   "outputs": [],
   "source": []
  }
 ],
 "metadata": {
  "kernelspec": {
   "display_name": "Python 3 (ipykernel)",
   "language": "python",
   "name": "python3"
  },
  "language_info": {
   "codemirror_mode": {
    "name": "ipython",
    "version": 3
   },
   "file_extension": ".py",
   "mimetype": "text/x-python",
   "name": "python",
   "nbconvert_exporter": "python",
   "pygments_lexer": "ipython3",
   "version": "3.9.12"
  }
 },
 "nbformat": 4,
 "nbformat_minor": 5
}
